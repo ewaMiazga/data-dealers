{
 "cells": [
  {
   "cell_type": "code",
   "execution_count": 3,
   "metadata": {},
   "outputs": [],
   "source": [
    "import pandas as pd\n",
    "import numpy as np\n",
    "import matplotlib.pyplot as plt\n",
    "import seaborn as sns\n",
    "\n",
    "x_train = pd.read_csv('data/dataset/x_train.csv')\n",
    "y_train = pd.read_csv('data/dataset/y_train.csv')\n",
    "x_test = pd.read_csv('data/dataset/x_test.csv')"
   ]
  },
  {
   "cell_type": "code",
   "execution_count": 6,
   "metadata": {},
   "outputs": [
    {
     "name": "stdout",
     "output_type": "stream",
     "text": [
      "We have 83 columns with no missing values \n",
      " Fetaures are : Index(['Id', '_STATE', 'FMONTH', 'IDATE', 'IMONTH', 'IDAY', 'IYEAR',\n",
      "       'DISPCODE', 'SEQNO', '_PSU', 'MENTHLTH', 'HLTHPLN1', 'PERSDOC2',\n",
      "       'BLOODCHO', 'CVDSTRK3', 'ASTHMA3', 'CHCOCNCR', 'CHCCOPD1', 'ADDEPEV2',\n",
      "       'CHCKIDNY', 'SEX', 'MARITAL', 'EDUCA', 'RENTHOM1', 'EMPLOY1', 'QSTVER',\n",
      "       '_STSTR', '_RAWRAKE', '_WT2RAKE', '_DUALUSE', '_LLCPWT', '_RFHLTH',\n",
      "       '_HCVU651', '_RFHYPE5', '_CHOLCHK', '_LTASTH1', '_CASTHM1', '_ASTHMS1',\n",
      "       '_PRACE1', '_MRACE1', '_HISPANC', '_RACE', '_RACEG21', '_RACEGR3',\n",
      "       '_AGEG5YR', '_AGE65YR', '_AGE80', '_AGE_G', '_RFBMI5', '_CHLDCNT',\n",
      "       '_EDUCAG', '_INCOMG', '_SMOKER3', '_RFSMOK3', 'DRNKANY5', 'DROCDY3_',\n",
      "       '_RFBING5', '_DRNKWEK', '_RFDRHV5', '_MISFRTN', '_MISVEGN', '_FRTRESP',\n",
      "       '_VEGRESP', '_FRTLT1', '_VEGLT1', '_FRT16', '_VEG23', '_FRUITEX',\n",
      "       '_VEGETEX', '_TOTINDA', 'MAXVO2_', 'FC60_', 'PAMISS1_', '_PACAT1',\n",
      "       '_PAINDX1', '_PA150R2', '_PA300R2', '_PA30021', '_PASTRNG', '_PAREC1',\n",
      "       '_PASTAE1', '_RFSEAT2', '_RFSEAT3'],\n",
      "      dtype='object')\n",
      "We have 239 columns with missing values\n"
     ]
    },
    {
     "data": {
      "text/plain": [
       "count       239.000000\n",
       "mean     197388.196653\n",
       "std      125563.993088\n",
       "min           1.000000\n",
       "25%       43801.000000\n",
       "50%      241493.000000\n",
       "75%      313049.500000\n",
       "max      328103.000000\n",
       "dtype: float64"
      ]
     },
     "execution_count": 6,
     "metadata": {},
     "output_type": "execute_result"
    }
   ],
   "source": [
    "missing_values = x_train.isnull().sum()\n",
    "missing_values.to_csv('missing_values.csv')\n",
    "\n",
    "print(f'We have {missing_values[missing_values == 0].count()} columns with no missing values \\n Fetaures are : {missing_values[missing_values == 0].index}')\n",
    "print(f'We have {missing_values[missing_values > 0].count()} columns with missing values')\n",
    "\n",
    "missing_values.drop(missing_values[missing_values == 0].index, inplace=True)\n",
    "missing_values.describe()"
   ]
  },
  {
   "cell_type": "code",
   "execution_count": null,
   "metadata": {},
   "outputs": [],
   "source": [
    "\n",
    "# feature to explore is the x_train dataset with only the columns with missing values\n",
    "features_to_explore = x_train[missing_values.index]\n",
    "features_to_explore\n",
    "\n",
    "correlation_matrix = features_to_explore.corr()"
   ]
  },
  {
   "cell_type": "code",
   "execution_count": null,
   "metadata": {},
   "outputs": [],
   "source": [
    "# determine a threshold to consider a pair of features as highly correlated\n",
    "threshold = 0.8\n",
    "\n",
    "highly_correlated_pairs = correlation_matrix.stack().reset_index()\n",
    "highly_correlated_pairs = highly_correlated_pairs[highly_correlated_pairs[0].abs() > threshold]\n",
    "highly_correlated_pairs = highly_correlated_pairs[highly_correlated_pairs['level_0'] != highly_correlated_pairs['level_1']]\n",
    "\n",
    "\n",
    "highly_correlated_pairs.to_csv('../preprocessing_elise/highly_correlated_pairs.csv')"
   ]
  }
 ],
 "metadata": {
  "kernelspec": {
   "display_name": "base",
   "language": "python",
   "name": "python3"
  },
  "language_info": {
   "codemirror_mode": {
    "name": "ipython",
    "version": 3
   },
   "file_extension": ".py",
   "mimetype": "text/x-python",
   "name": "python",
   "nbconvert_exporter": "python",
   "pygments_lexer": "ipython3",
   "version": "3.12.4"
  }
 },
 "nbformat": 4,
 "nbformat_minor": 2
}
